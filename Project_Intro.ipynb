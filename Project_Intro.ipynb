{
 "cells": [
  {
   "cell_type": "markdown",
   "metadata": {},
   "source": [
    "### CAPSTONE PROJECT"
   ]
  },
  {
   "cell_type": "markdown",
   "metadata": {},
   "source": [
    "# The Battle of Neighborhoods"
   ]
  },
  {
   "cell_type": "markdown",
   "metadata": {},
   "source": [
    "#### Introduction"
   ]
  },
  {
   "cell_type": "markdown",
   "metadata": {},
   "source": [
    "As we all know  Pizza is one of the most favorite food item. In this project, I will create a analysis of neighborhoods in Staten Island, New York to determine which of the neighborhoods are optimal location for opening a Pizza Place. There are many Pizza Places in Staten Island, New York. It is difficult for contractor to start a Pizza Place in such area. Also, the contractor cannot open Pizza place near other pizza place locations. So it is essential for the contractor to find optimal location for the Pizza Place. Optimal location should be away from other pizza places and in the neighborhoods where pizza places are not present. \n",
    "This project will help such contractors to find optimal locations in Staten Island, who wants to open pizza place."
   ]
  },
  {
   "cell_type": "markdown",
   "metadata": {},
   "source": [
    "#### Business Problem"
   ]
  },
  {
   "cell_type": "markdown",
   "metadata": {},
   "source": [
    "The main aim of this capstone project is to help contractors to find optimal location to open a Pizza Place in Staten Island, New York. This project uses data science techniques and Machine Learning Clustering techniques to solve the business problem."
   ]
  },
  {
   "cell_type": "markdown",
   "metadata": {},
   "source": [
    "Business Problem : What are the optimal locations in Staten Island, New York for a contractor to open Pizza Place?"
   ]
  },
  {
   "cell_type": "markdown",
   "metadata": {},
   "source": [
    "#### Target Audience "
   ]
  },
  {
   "cell_type": "markdown",
   "metadata": {},
   "source": [
    "The contractors who wants to open pizza place in Staten Island, New York."
   ]
  },
  {
   "cell_type": "markdown",
   "metadata": {},
   "source": [
    "#### Data Description\n",
    "I will be using following data to solve the business problem:"
   ]
  },
  {
   "cell_type": "markdown",
   "metadata": {},
   "source": [
    "1) Dataset which contains the data of New York neighborhoods.\n"
   ]
  },
  {
   "cell_type": "markdown",
   "metadata": {},
   "source": [
    "2) Co-ordinates of different neighborhoods in Staten Island, New York.\n"
   ]
  },
  {
   "cell_type": "markdown",
   "metadata": {},
   "source": [
    "3) Data related to Pizza Places."
   ]
  },
  {
   "cell_type": "markdown",
   "metadata": {},
   "source": [
    "#### Data Extraction"
   ]
  },
  {
   "cell_type": "markdown",
   "metadata": {},
   "source": [
    "1) The New York dataset which contains neighborhoods in New York is available free on the web. It also contains latitude and longitude of the locations in New York."
   ]
  },
  {
   "cell_type": "markdown",
   "metadata": {},
   "source": [
    "2)To get the co-ordinates of neighborhoods in Staten Island, I will use Geocoder Package."
   ]
  },
  {
   "cell_type": "markdown",
   "metadata": {},
   "source": [
    "3)To get the data about Pizza Places I will use Foursqare API."
   ]
  },
  {
   "cell_type": "code",
   "execution_count": null,
   "metadata": {},
   "outputs": [],
   "source": []
  }
 ],
 "metadata": {
  "kernelspec": {
   "display_name": "Python 3",
   "language": "python",
   "name": "python3"
  },
  "language_info": {
   "codemirror_mode": {
    "name": "ipython",
    "version": 3
   },
   "file_extension": ".py",
   "mimetype": "text/x-python",
   "name": "python",
   "nbconvert_exporter": "python",
   "pygments_lexer": "ipython3",
   "version": "3.6.8"
  }
 },
 "nbformat": 4,
 "nbformat_minor": 2
}
